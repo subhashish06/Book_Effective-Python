{
 "cells": [
  {
   "cell_type": "markdown",
   "id": "d1ae47cd",
   "metadata": {},
   "source": [
    "# 1. Prefer Exceptions to returning None "
   ]
  },
  {
   "cell_type": "markdown",
   "id": "a21c9812",
   "metadata": {},
   "source": [
    "Functions that return None to indicate special meaning are error prone because none and other values (e.g. zero, the empty string) all evaluate to false in conditional expressions.\n",
    "In the below example, result_2 is perfectly valid and returns zero, but the handling is not proper."
   ]
  },
  {
   "cell_type": "code",
   "execution_count": 2,
   "id": "5b1214b7",
   "metadata": {},
   "outputs": [
    {
     "name": "stdout",
     "output_type": "stream",
     "text": [
      "result_1 is not ok due to invalid inputs\n",
      "result_2 is not ok due to invalid inputs\n"
     ]
    }
   ],
   "source": [
    "def divide(a, b):\n",
    "    try:\n",
    "        return a / b\n",
    "    except ZeroDivisionError:\n",
    "        return None\n",
    "   \n",
    "result_1 = divide(5, 0)\n",
    "if not result_1:\n",
    "    print(\"result_1 is not ok due to invalid inputs\")\n",
    "    \n",
    "result_2 = divide(0, 5)\n",
    "if not result_2:\n",
    "    print(\"result_2 is not ok due to invalid inputs\")"
   ]
  },
  {
   "cell_type": "markdown",
   "id": "620ec724",
   "metadata": {},
   "source": [
    "It is clearer to raise exceptions to indicate special situations instead of returning None. Expect the calling code to handle exceptions properly when they are documented."
   ]
  },
  {
   "cell_type": "code",
   "execution_count": 7,
   "id": "bb60835a",
   "metadata": {
    "scrolled": true
   },
   "outputs": [
    {
     "name": "stdout",
     "output_type": "stream",
     "text": [
      "Result is 2.5\n",
      "Result is Invalid inputs\n"
     ]
    }
   ],
   "source": [
    "def divide(a, b):\n",
    "    \"\"\"\n",
    "    params: a: numerator\n",
    "    params: b: denominator\n",
    "    returns: the result when b is non-zero and ValueError when b is zero.\n",
    "    \"\"\"\n",
    "    try:\n",
    "        return a / b\n",
    "    except ZeroDivisionError:\n",
    "        return ValueError('Invalid inputs')\n",
    "    \n",
    "x, y = 5, 2\n",
    "try:\n",
    "    result = divide(x, y)\n",
    "except ValueError:\n",
    "    print(\"Invalid Inputs\")\n",
    "else:\n",
    "    print(f\"Result is {result}\")\n",
    "    \n",
    "\n",
    "x, y = 5, 0\n",
    "try:\n",
    "    result = divide(x, y)\n",
    "except ValueError:\n",
    "    print(\"Invalid Inputs\")\n",
    "else:\n",
    "    print(f\"Result is {result}\")"
   ]
  },
  {
   "cell_type": "markdown",
   "id": "de91c798",
   "metadata": {},
   "source": [
    "# 2. What are Closures in Python\n",
    "\n",
    "We have a closure in Python when a nested function references a value in its enclosing scope.\n",
    "\n",
    "The criteria that must be met to create closure in Python are summarized in the following points.\n",
    "\n",
    "- We must have a nested function (function inside a function).\n",
    "- The nested function must refer to a value defined in the enclosing function.\n",
    "- The enclosing function must return the nested function."
   ]
  },
  {
   "cell_type": "code",
   "execution_count": 3,
   "id": "869429b0",
   "metadata": {},
   "outputs": [
    {
     "name": "stdout",
     "output_type": "stream",
     "text": [
      "30\n",
      "50\n"
     ]
    }
   ],
   "source": [
    "def make_multiplier_of(n):\n",
    "    def multiplier(x):\n",
    "        return x * n\n",
    "    return multiplier\n",
    "\n",
    "times3 = make_multiplier_of(3)\n",
    "times5 = make_multiplier_of(5)\n",
    "\n",
    "print(times3(10))\n",
    "print(times5(10))"
   ]
  },
  {
   "cell_type": "markdown",
   "id": "4676a5ee",
   "metadata": {},
   "source": [
    "All function objects have a __closure__ attribute that returns a tuple of cell objects if it is a closure function. Referring to the example above, we know times3 and times5 are closure functions.\n",
    "\n",
    "The cell object has the attribute cell_contents which stores the closed value."
   ]
  },
  {
   "cell_type": "code",
   "execution_count": 6,
   "id": "40888901",
   "metadata": {
    "scrolled": false
   },
   "outputs": [
    {
     "data": {
      "text/plain": [
       "(<cell at 0x000001F279D30B20: int object at 0x000001F275026970>,)"
      ]
     },
     "execution_count": 6,
     "metadata": {},
     "output_type": "execute_result"
    }
   ],
   "source": [
    "times3.__closure__"
   ]
  },
  {
   "cell_type": "code",
   "execution_count": 7,
   "id": "9104a0e0",
   "metadata": {},
   "outputs": [
    {
     "data": {
      "text/plain": [
       "5"
      ]
     },
     "execution_count": 7,
     "metadata": {},
     "output_type": "execute_result"
    }
   ],
   "source": [
    "times5.__closure__[0].cell_contents"
   ]
  }
 ],
 "metadata": {
  "kernelspec": {
   "display_name": "Python 3 (ipykernel)",
   "language": "python",
   "name": "python3"
  },
  "language_info": {
   "codemirror_mode": {
    "name": "ipython",
    "version": 3
   },
   "file_extension": ".py",
   "mimetype": "text/x-python",
   "name": "python",
   "nbconvert_exporter": "python",
   "pygments_lexer": "ipython3",
   "version": "3.9.7"
  }
 },
 "nbformat": 4,
 "nbformat_minor": 5
}
