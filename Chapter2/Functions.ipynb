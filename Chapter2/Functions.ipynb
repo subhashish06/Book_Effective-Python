{
 "cells": [
  {
   "cell_type": "markdown",
   "id": "d1ae47cd",
   "metadata": {},
   "source": [
    "# 1. Prefer Exceptions to returning None "
   ]
  },
  {
   "cell_type": "markdown",
   "id": "a21c9812",
   "metadata": {},
   "source": [
    "Functions that return None to indicate special meaning are error prone because none and other values (e.g. zero, the empty string) all evaluate to false in conditional expressions.\n",
    "In the below example, result_2 is perfectly valid and returns zero, but the handling is not proper."
   ]
  },
  {
   "cell_type": "code",
   "execution_count": 2,
   "id": "5b1214b7",
   "metadata": {},
   "outputs": [
    {
     "name": "stdout",
     "output_type": "stream",
     "text": [
      "result_1 is not ok due to invalid inputs\n",
      "result_2 is not ok due to invalid inputs\n"
     ]
    }
   ],
   "source": [
    "def divide(a, b):\n",
    "    try:\n",
    "        return a / b\n",
    "    except ZeroDivisionError:\n",
    "        return None\n",
    "   \n",
    "result_1 = divide(5, 0)\n",
    "if not result_1:\n",
    "    print(\"result_1 is not ok due to invalid inputs\")\n",
    "    \n",
    "result_2 = divide(0, 5)\n",
    "if not result_2:\n",
    "    print(\"result_2 is not ok due to invalid inputs\")"
   ]
  },
  {
   "cell_type": "markdown",
   "id": "620ec724",
   "metadata": {},
   "source": [
    "It is clearer to raise exceptions to indicate special situations instead of returning None. Expect the calling code to handle exceptions properly when they are documented."
   ]
  },
  {
   "cell_type": "code",
   "execution_count": 7,
   "id": "bb60835a",
   "metadata": {
    "scrolled": true
   },
   "outputs": [
    {
     "name": "stdout",
     "output_type": "stream",
     "text": [
      "Result is 2.5\n",
      "Result is Invalid inputs\n"
     ]
    }
   ],
   "source": [
    "def divide(a, b):\n",
    "    \"\"\"\n",
    "    params: a: numerator\n",
    "    params: b: denominator\n",
    "    returns: the result when b is non-zero and ValueError when b is zero.\n",
    "    \"\"\"\n",
    "    try:\n",
    "        return a / b\n",
    "    except ZeroDivisionError:\n",
    "        return ValueError('Invalid inputs')\n",
    "    \n",
    "x, y = 5, 2\n",
    "try:\n",
    "    result = divide(x, y)\n",
    "except ValueError:\n",
    "    print(\"Invalid Inputs\")\n",
    "else:\n",
    "    print(f\"Result is {result}\")\n",
    "    \n",
    "\n",
    "x, y = 5, 0\n",
    "try:\n",
    "    result = divide(x, y)\n",
    "except ValueError:\n",
    "    print(\"Invalid Inputs\")\n",
    "else:\n",
    "    print(f\"Result is {result}\")"
   ]
  },
  {
   "cell_type": "markdown",
   "id": "de91c798",
   "metadata": {},
   "source": [
    "# 2. What are Closures in Python\n",
    "\n",
    "We have a closure in Python when a nested function references a value in its enclosing scope.\n",
    "\n",
    "The criteria that must be met to create closure in Python are summarized in the following points.\n",
    "\n",
    "- We must have a nested function (function inside a function).\n",
    "- The nested function must refer to a value defined in the enclosing function.\n",
    "- The enclosing function must return the nested function."
   ]
  },
  {
   "cell_type": "code",
   "execution_count": 3,
   "id": "869429b0",
   "metadata": {},
   "outputs": [
    {
     "name": "stdout",
     "output_type": "stream",
     "text": [
      "30\n",
      "50\n"
     ]
    }
   ],
   "source": [
    "def make_multiplier_of(n):\n",
    "    def multiplier(x):\n",
    "        return x * n\n",
    "    return multiplier\n",
    "\n",
    "times3 = make_multiplier_of(3)\n",
    "times5 = make_multiplier_of(5)\n",
    "\n",
    "print(times3(10))\n",
    "print(times5(10))"
   ]
  },
  {
   "cell_type": "markdown",
   "id": "4676a5ee",
   "metadata": {},
   "source": [
    "All function objects have a __closure__ attribute that returns a tuple of cell objects if it is a closure function. Referring to the example above, we know times3 and times5 are closure functions.\n",
    "\n",
    "The cell object has the attribute cell_contents which stores the closed value."
   ]
  },
  {
   "cell_type": "code",
   "execution_count": 6,
   "id": "40888901",
   "metadata": {
    "scrolled": false
   },
   "outputs": [
    {
     "data": {
      "text/plain": [
       "(<cell at 0x000001F279D30B20: int object at 0x000001F275026970>,)"
      ]
     },
     "execution_count": 6,
     "metadata": {},
     "output_type": "execute_result"
    }
   ],
   "source": [
    "times3.__closure__"
   ]
  },
  {
   "cell_type": "code",
   "execution_count": 7,
   "id": "9104a0e0",
   "metadata": {},
   "outputs": [
    {
     "data": {
      "text/plain": [
       "5"
      ]
     },
     "execution_count": 7,
     "metadata": {},
     "output_type": "execute_result"
    }
   ],
   "source": [
    "times5.__closure__[0].cell_contents"
   ]
  },
  {
   "cell_type": "markdown",
   "id": "a7f9e930",
   "metadata": {},
   "source": [
    "# 3. Return Generators instead of Lists\n",
    "\n",
    "The simplest choice for a function that produce a sequence of results is to return a list.\n",
    "For example, say you want the index of ecery word in a string."
   ]
  },
  {
   "cell_type": "code",
   "execution_count": 3,
   "id": "fe4ad9ac",
   "metadata": {},
   "outputs": [],
   "source": [
    "def index_words(text):\n",
    "    result = []\n",
    "    if text:\n",
    "        result.append(0)\n",
    "    for index, letter in enumerate(text):\n",
    "        if letter == \" \":\n",
    "            result.append(index + 1)\n",
    "    return result"
   ]
  },
  {
   "cell_type": "code",
   "execution_count": 4,
   "id": "9e2c4544",
   "metadata": {},
   "outputs": [
    {
     "name": "stdout",
     "output_type": "stream",
     "text": [
      "[0, 8, 18, 22, 24]\n"
     ]
    }
   ],
   "source": [
    "text_input = \"Jupyter notebooks are a nice way to practice coding...\"\n",
    "result = index_words(text_input)\n",
    "# printing the first five word indices\n",
    "print(result[:5])"
   ]
  },
  {
   "cell_type": "markdown",
   "id": "22b47c73",
   "metadata": {},
   "source": [
    "A better way to write this function is using a generator. Generators are functions that use the yield expressions.\n",
    "\n",
    "When called, generator functions do not actually run but instead immediately return an iterator. With each call to the next built-in function, the iterator will advance the generator to its next yield expression. Each value passed to yield by the generator will be returned by the iterator to the caller.\n",
    "\n",
    "The iterator returned by the generator call can be easily converted back to a list by passing it to the list built-in function."
   ]
  },
  {
   "cell_type": "code",
   "execution_count": 8,
   "id": "b28373bf",
   "metadata": {},
   "outputs": [],
   "source": [
    "def index_words_iter(text):\n",
    "    if text:\n",
    "        yield 0\n",
    "    for index, letter in enumerate(text):\n",
    "        if letter == \" \":\n",
    "            yield index + 1"
   ]
  },
  {
   "cell_type": "code",
   "execution_count": 9,
   "id": "cce7a1e2",
   "metadata": {},
   "outputs": [
    {
     "name": "stdout",
     "output_type": "stream",
     "text": [
      "[0, 8, 18, 22, 24]\n"
     ]
    }
   ],
   "source": [
    "import itertools\n",
    "\n",
    "text_input = \"Jupyter notebooks are a nice way to practice coding...\"\n",
    "result = index_words_iter(text_input)\n",
    "# printing the first five word indices\n",
    "print(list(itertools.islice(result, 0, 5)))"
   ]
  },
  {
   "cell_type": "markdown",
   "id": "e7745f6f",
   "metadata": {},
   "source": [
    "Another problem with index_words is that it requires all results to be stored in the list before being returned. For huge inputs, this can lead to your program to run out of memory and crash.\n",
    "In contrast, a generator version of this program can be easily adapted to take inputs of arbitrary length."
   ]
  },
  {
   "cell_type": "code",
   "execution_count": 10,
   "id": "77570a4f",
   "metadata": {},
   "outputs": [],
   "source": [
    "def index_file(handle):\n",
    "    offset = 0\n",
    "    for line in handle:\n",
    "        if line:\n",
    "            yield offset\n",
    "        for letter in line:\n",
    "            offset += 1\n",
    "            if letter == \" \":\n",
    "                yield offset"
   ]
  },
  {
   "cell_type": "code",
   "execution_count": null,
   "id": "97ad8df3",
   "metadata": {},
   "outputs": [],
   "source": [
    "with open(\"filename\") as f:\n",
    "    result = index_file(f)\n",
    "    print(list(itertools.islice(result, 0, 5)))"
   ]
  },
  {
   "cell_type": "markdown",
   "id": "d071ccaa",
   "metadata": {},
   "source": [
    "The only gotcha of defining generators like this is that the callers must be aware that the iterators returned are stateful and can't be re-used."
   ]
  },
  {
   "cell_type": "markdown",
   "id": "fd37db5a",
   "metadata": {},
   "source": [
    "# 4. Manage positional arguments that are optional\n",
    "\n",
    "Accepting optional positional arguments (ofthen called star args in reference to the conventional name \\*args) can make a function call clearer and remove visual noise.\n",
    "\n",
    "Suppose you want to log some information. You need a function that takes a message and a *list of values."
   ]
  },
  {
   "cell_type": "code",
   "execution_count": 2,
   "id": "5a0e22d0",
   "metadata": {},
   "outputs": [
    {
     "name": "stdout",
     "output_type": "stream",
     "text": [
      "My numbers are : 1, 2\n",
      "Hi There\n"
     ]
    },
    {
     "ename": "TypeError",
     "evalue": "log() missing 1 required positional argument: 'values'",
     "output_type": "error",
     "traceback": [
      "\u001b[1;31m---------------------------------------------------------------------------\u001b[0m",
      "\u001b[1;31mTypeError\u001b[0m                                 Traceback (most recent call last)",
      "\u001b[1;32m~\\AppData\\Local\\Temp/ipykernel_30464/1167257850.py\u001b[0m in \u001b[0;36m<module>\u001b[1;34m\u001b[0m\n\u001b[0;32m      8\u001b[0m \u001b[0mlog\u001b[0m\u001b[1;33m(\u001b[0m\u001b[1;34m\"My numbers are\"\u001b[0m\u001b[1;33m,\u001b[0m \u001b[1;33m[\u001b[0m\u001b[1;36m1\u001b[0m\u001b[1;33m,\u001b[0m \u001b[1;36m2\u001b[0m\u001b[1;33m]\u001b[0m\u001b[1;33m)\u001b[0m\u001b[1;33m\u001b[0m\u001b[1;33m\u001b[0m\u001b[0m\n\u001b[0;32m      9\u001b[0m \u001b[0mlog\u001b[0m\u001b[1;33m(\u001b[0m\u001b[1;34m\"Hi There\"\u001b[0m\u001b[1;33m,\u001b[0m \u001b[1;33m[\u001b[0m\u001b[1;33m]\u001b[0m\u001b[1;33m)\u001b[0m\u001b[1;33m\u001b[0m\u001b[1;33m\u001b[0m\u001b[0m\n\u001b[1;32m---> 10\u001b[1;33m \u001b[0mlog\u001b[0m\u001b[1;33m(\u001b[0m\u001b[1;34m\"Hi There\"\u001b[0m\u001b[1;33m)\u001b[0m\u001b[1;33m\u001b[0m\u001b[1;33m\u001b[0m\u001b[0m\n\u001b[0m",
      "\u001b[1;31mTypeError\u001b[0m: log() missing 1 required positional argument: 'values'"
     ]
    }
   ],
   "source": [
    "def log(message, values):\n",
    "    if not values:\n",
    "        print(message)\n",
    "    else:\n",
    "        values_str = \", \".join(str(x) for x in values)\n",
    "        print(f\"{message} : {values_str}\")\n",
    "        \n",
    "log(\"My numbers are\", [1, 2])\n",
    "log(\"Hi There\", [])\n",
    "log(\"Hi There\")"
   ]
  },
  {
   "cell_type": "markdown",
   "id": "781b6c26",
   "metadata": {},
   "source": [
    "Having to pass an empty list when you have nothing in values is cumbersome and noisy. \n",
    "An easy fix for the above is the following"
   ]
  },
  {
   "cell_type": "code",
   "execution_count": 5,
   "id": "d800aa62",
   "metadata": {},
   "outputs": [
    {
     "name": "stdout",
     "output_type": "stream",
     "text": [
      "My numbers are : [1, 2]\n",
      "Hi There\n",
      "My numbers are : 0, 0, 7\n"
     ]
    }
   ],
   "source": [
    "def log(message, *values):\n",
    "    if not values:\n",
    "        print(message)\n",
    "    else:\n",
    "        values_str = \", \".join(str(x) for x in values)\n",
    "        print(f\"{message} : {values_str}\")\n",
    "        \n",
    "log(\"My numbers are\", [1, 2])\n",
    "log(\"Hi There\")\n",
    "my_values = [0, 0, 7]\n",
    "log(\"My numbers are\", *my_values)"
   ]
  },
  {
   "cell_type": "markdown",
   "id": "7d1b322b",
   "metadata": {},
   "source": [
    "There are two problems with the above approach. The first being the number of values that are actually there in a variable. This style is good only if you are sure that the number of inputs are relatively small. When the \\*args is unpacked, all values are loaded into memory which means you should be doing it on generators that yield a very large number of output."
   ]
  },
  {
   "cell_type": "code",
   "execution_count": 6,
   "id": "f7d07385",
   "metadata": {},
   "outputs": [
    {
     "name": "stdout",
     "output_type": "stream",
     "text": [
      "(0, 1, 2, 3, 4, 5, 6, 7, 8, 9)\n"
     ]
    }
   ],
   "source": [
    "def my_gen():\n",
    "    for i in range(10):\n",
    "        yield i\n",
    "        \n",
    "def my_func(*args):\n",
    "    print(args)\n",
    "    \n",
    "it = my_gen()\n",
    "my_func(*it)"
   ]
  },
  {
   "cell_type": "markdown",
   "id": "849df998",
   "metadata": {},
   "source": [
    "Another issue with this approach is that, adding a new positional argument will break all the code that used the function call earlier."
   ]
  },
  {
   "cell_type": "code",
   "execution_count": 8,
   "id": "8651848e",
   "metadata": {},
   "outputs": [
    {
     "name": "stdout",
     "output_type": "stream",
     "text": [
      "My numbers are [1, 2]\n",
      "My numbers are :- 0 : 0, 7\n"
     ]
    },
    {
     "ename": "TypeError",
     "evalue": "log() missing 1 required positional argument: 'message'",
     "output_type": "error",
     "traceback": [
      "\u001b[1;31m---------------------------------------------------------------------------\u001b[0m",
      "\u001b[1;31mTypeError\u001b[0m                                 Traceback (most recent call last)",
      "\u001b[1;32m~\\AppData\\Local\\Temp/ipykernel_30464/3952485541.py\u001b[0m in \u001b[0;36m<module>\u001b[1;34m\u001b[0m\n\u001b[0;32m      9\u001b[0m \u001b[0mmy_values\u001b[0m \u001b[1;33m=\u001b[0m \u001b[1;33m[\u001b[0m\u001b[1;36m0\u001b[0m\u001b[1;33m,\u001b[0m \u001b[1;36m0\u001b[0m\u001b[1;33m,\u001b[0m \u001b[1;36m7\u001b[0m\u001b[1;33m]\u001b[0m\u001b[1;33m\u001b[0m\u001b[1;33m\u001b[0m\u001b[0m\n\u001b[0;32m     10\u001b[0m \u001b[0mlog\u001b[0m\u001b[1;33m(\u001b[0m\u001b[1;34m\"My numbers are\"\u001b[0m\u001b[1;33m,\u001b[0m \u001b[1;33m*\u001b[0m\u001b[0mmy_values\u001b[0m\u001b[1;33m)\u001b[0m\u001b[1;33m\u001b[0m\u001b[1;33m\u001b[0m\u001b[0m\n\u001b[1;32m---> 11\u001b[1;33m \u001b[0mlog\u001b[0m\u001b[1;33m(\u001b[0m\u001b[1;34m\"Hi There\"\u001b[0m\u001b[1;33m)\u001b[0m\u001b[1;33m\u001b[0m\u001b[1;33m\u001b[0m\u001b[0m\n\u001b[0m",
      "\u001b[1;31mTypeError\u001b[0m: log() missing 1 required positional argument: 'message'"
     ]
    }
   ],
   "source": [
    "def log(sequence, message, *values):\n",
    "    if not values:\n",
    "        print(sequence, message)\n",
    "    else:\n",
    "        values_str = \", \".join(str(x) for x in values)\n",
    "        print(f\"{sequence} :- {message} : {values_str}\")\n",
    "        \n",
    "log(\"My numbers are\", [1, 2])\n",
    "my_values = [0, 0, 7]\n",
    "log(\"My numbers are\", *my_values)\n",
    "log(\"Hi There\")"
   ]
  }
 ],
 "metadata": {
  "kernelspec": {
   "display_name": "Python 3 (ipykernel)",
   "language": "python",
   "name": "python3"
  },
  "language_info": {
   "codemirror_mode": {
    "name": "ipython",
    "version": 3
   },
   "file_extension": ".py",
   "mimetype": "text/x-python",
   "name": "python",
   "nbconvert_exporter": "python",
   "pygments_lexer": "ipython3",
   "version": "3.9.7"
  }
 },
 "nbformat": 4,
 "nbformat_minor": 5
}
