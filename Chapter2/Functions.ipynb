{
 "cells": [
  {
   "cell_type": "markdown",
   "id": "d1ae47cd",
   "metadata": {},
   "source": [
    "# 1. Prefer Exceptions to returning None "
   ]
  },
  {
   "cell_type": "markdown",
   "id": "a21c9812",
   "metadata": {},
   "source": [
    "Functions that return None to indicate special meaning are error prone because none and other values (e.g. zero, the empty string) all evaluate to false in conditional expressions.\n",
    "In the below example, result_2 is perfectly valid and returns zero, but the handling is not proper."
   ]
  },
  {
   "cell_type": "code",
   "execution_count": 2,
   "id": "5b1214b7",
   "metadata": {},
   "outputs": [
    {
     "name": "stdout",
     "output_type": "stream",
     "text": [
      "result_1 is not ok due to invalid inputs\n",
      "result_2 is not ok due to invalid inputs\n"
     ]
    }
   ],
   "source": [
    "def divide(a, b):\n",
    "    try:\n",
    "        return a / b\n",
    "    except ZeroDivisionError:\n",
    "        return None\n",
    "   \n",
    "result_1 = divide(5, 0)\n",
    "if not result_1:\n",
    "    print(\"result_1 is not ok due to invalid inputs\")\n",
    "    \n",
    "result_2 = divide(0, 5)\n",
    "if not result_2:\n",
    "    print(\"result_2 is not ok due to invalid inputs\")"
   ]
  },
  {
   "cell_type": "markdown",
   "id": "620ec724",
   "metadata": {},
   "source": [
    "It is clearer to raise exceptions to indicate special situations instead of returning None. Expect the calling code to handle exceptions properly when they are documented."
   ]
  },
  {
   "cell_type": "code",
   "execution_count": 7,
   "id": "bb60835a",
   "metadata": {},
   "outputs": [
    {
     "name": "stdout",
     "output_type": "stream",
     "text": [
      "Result is 2.5\n",
      "Result is Invalid inputs\n"
     ]
    }
   ],
   "source": [
    "def divide(a, b):\n",
    "    \"\"\"\n",
    "    params: a: numerator\n",
    "    params: b: denominator\n",
    "    returns: the result when b is non-zero and ValueError when b is zero.\n",
    "    \"\"\"\n",
    "    try:\n",
    "        return a / b\n",
    "    except ZeroDivisionError:\n",
    "        return ValueError('Invalid inputs')\n",
    "    \n",
    "x, y = 5, 2\n",
    "try:\n",
    "    result = divide(x, y)\n",
    "except ValueError:\n",
    "    print(\"Invalid Inputs\")\n",
    "else:\n",
    "    print(f\"Result is {result}\")\n",
    "    \n",
    "\n",
    "x, y = 5, 0\n",
    "try:\n",
    "    result = divide(x, y)\n",
    "except ValueError:\n",
    "    print(\"Invalid Inputs\")\n",
    "else:\n",
    "    print(f\"Result is {result}\")"
   ]
  }
 ],
 "metadata": {
  "kernelspec": {
   "display_name": "Python 3 (ipykernel)",
   "language": "python",
   "name": "python3"
  },
  "language_info": {
   "codemirror_mode": {
    "name": "ipython",
    "version": 3
   },
   "file_extension": ".py",
   "mimetype": "text/x-python",
   "name": "python",
   "nbconvert_exporter": "python",
   "pygments_lexer": "ipython3",
   "version": "3.9.7"
  }
 },
 "nbformat": 4,
 "nbformat_minor": 5
}
