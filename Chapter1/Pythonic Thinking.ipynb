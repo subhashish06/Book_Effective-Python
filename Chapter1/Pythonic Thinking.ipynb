{
 "cells": [
  {
   "cell_type": "markdown",
   "id": "69bfb11f",
   "metadata": {},
   "source": [
    "# Know which version of Python you're using\n",
    "\n",
    "Although you can simply check the python version from console with 'python --version' command, you can also check this in code like below."
   ]
  },
  {
   "cell_type": "code",
   "execution_count": 2,
   "id": "13679235",
   "metadata": {},
   "outputs": [
    {
     "name": "stdout",
     "output_type": "stream",
     "text": [
      "sys.version_info(major=3, minor=9, micro=7, releaselevel='final', serial=0)\n",
      "3.9.7 (default, Sep 16 2021, 16:59:28) [MSC v.1916 64 bit (AMD64)]\n"
     ]
    }
   ],
   "source": [
    "import sys\n",
    "\n",
    "print(sys.version_info)\n",
    "print(sys.version)"
   ]
  },
  {
   "cell_type": "markdown",
   "id": "db54923d",
   "metadata": {},
   "source": [
    "# Avoid Complex Expressions\n",
    "\n",
    "If your expressions get complicated, split them into smaller functions and move them to a helper function.\n",
    "Suppose you have a dictionary my_values as below.\n",
    "You want to look for some particular keys. For the key, the value returned can be a list with only one number, an empty list or None if the key is not present."
   ]
  },
  {
   "cell_type": "code",
   "execution_count": 4,
   "id": "724cd120",
   "metadata": {},
   "outputs": [
    {
     "name": "stdout",
     "output_type": "stream",
     "text": [
      "Red:  ['5']\n",
      "Green:  ['']\n",
      "Opacity:  None\n"
     ]
    }
   ],
   "source": [
    "my_values = {'red': ['5'], 'green': [''], 'blue': ['0']}\n",
    "\n",
    "print(\"Red: \", my_values.get('red'))\n",
    "print(\"Green: \", my_values.get('green'))\n",
    "print(\"Opacity: \", my_values.get('opacity'))"
   ]
  },
  {
   "cell_type": "markdown",
   "id": "38d3529c",
   "metadata": {},
   "source": [
    "Now, suppose you want to get only the first integer value for a key and 0 if the key is not present.\n",
    "Python can do it in one single line of code."
   ]
  },
  {
   "cell_type": "code",
   "execution_count": 17,
   "id": "4aee8379",
   "metadata": {},
   "outputs": [
    {
     "name": "stdout",
     "output_type": "stream",
     "text": [
      "Red : 5\n",
      "Green : 0\n",
      "Opacity : 0\n"
     ]
    }
   ],
   "source": [
    "my_values = {'red': ['5'], 'green': [''], 'blue': ['0']}\n",
    "\n",
    "print(\"Red :\", int(my_values.get('red', [''])[0] or 0))\n",
    "print(\"Green :\", int(my_values.get('green', [''])[0] or 0))\n",
    "print(\"Opacity :\", int(my_values.get('opacity', [''])[0] or 0))"
   ]
  },
  {
   "cell_type": "markdown",
   "id": "7d2f5282",
   "metadata": {},
   "source": [
    "Although short, this code does a lot of things in one line and is confusing.\n",
    "Instead, consider the following helper function."
   ]
  },
  {
   "cell_type": "code",
   "execution_count": 20,
   "id": "3ba1c55c",
   "metadata": {
    "scrolled": false
   },
   "outputs": [
    {
     "name": "stdout",
     "output_type": "stream",
     "text": [
      "Red : 5\n",
      "Green : 0\n",
      "Opacity : 0\n"
     ]
    }
   ],
   "source": [
    "def get_first_int(values, key, default=0):\n",
    "    query_result = values.get(key, [''])\n",
    "    if query_result[0]:\n",
    "        query_result = int(query_result[0])\n",
    "    else:\n",
    "        query_result = default\n",
    "    return query_result\n",
    "\n",
    "my_values = {'red': ['5'], 'green': [''], 'blue': ['0']}\n",
    "\n",
    "print(\"Red :\", get_first_int(my_values, 'red'))\n",
    "print(\"Green :\", get_first_int(my_values, 'green'))\n",
    "print(\"Opacity :\", get_first_int(my_values, 'opacity'))"
   ]
  }
 ],
 "metadata": {
  "kernelspec": {
   "display_name": "Python 3 (ipykernel)",
   "language": "python",
   "name": "python3"
  },
  "language_info": {
   "codemirror_mode": {
    "name": "ipython",
    "version": 3
   },
   "file_extension": ".py",
   "mimetype": "text/x-python",
   "name": "python",
   "nbconvert_exporter": "python",
   "pygments_lexer": "ipython3",
   "version": "3.9.7"
  }
 },
 "nbformat": 4,
 "nbformat_minor": 5
}
