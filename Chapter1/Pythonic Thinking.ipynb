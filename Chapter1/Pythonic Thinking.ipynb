{
 "cells": [
  {
   "cell_type": "markdown",
   "id": "69bfb11f",
   "metadata": {},
   "source": [
    "# 1. Know which version of Python you're using\n",
    "\n",
    "Although you can simply check the python version from console with 'python --version' command, you can also check this in code like below."
   ]
  },
  {
   "cell_type": "code",
   "execution_count": 2,
   "id": "13679235",
   "metadata": {},
   "outputs": [
    {
     "name": "stdout",
     "output_type": "stream",
     "text": [
      "sys.version_info(major=3, minor=9, micro=7, releaselevel='final', serial=0)\n",
      "3.9.7 (default, Sep 16 2021, 16:59:28) [MSC v.1916 64 bit (AMD64)]\n"
     ]
    }
   ],
   "source": [
    "import sys\n",
    "\n",
    "print(sys.version_info)\n",
    "print(sys.version)"
   ]
  },
  {
   "cell_type": "markdown",
   "id": "db54923d",
   "metadata": {},
   "source": [
    "# 2. Avoid Complex Expressions\n",
    "\n",
    "If your expressions get complicated, split them into smaller functions and move them to a helper function.\n",
    "Suppose you have a dictionary my_values as below.\n",
    "You want to look for some particular keys. For the key, the value returned can be a list with only one number, an empty list or None if the key is not present."
   ]
  },
  {
   "cell_type": "code",
   "execution_count": 4,
   "id": "724cd120",
   "metadata": {},
   "outputs": [
    {
     "name": "stdout",
     "output_type": "stream",
     "text": [
      "Red:  ['5']\n",
      "Green:  ['']\n",
      "Opacity:  None\n"
     ]
    }
   ],
   "source": [
    "my_values = {'red': ['5'], 'green': [''], 'blue': ['0']}\n",
    "\n",
    "print(\"Red: \", my_values.get('red'))\n",
    "print(\"Green: \", my_values.get('green'))\n",
    "print(\"Opacity: \", my_values.get('opacity'))"
   ]
  },
  {
   "cell_type": "markdown",
   "id": "38d3529c",
   "metadata": {},
   "source": [
    "Now, suppose you want to get only the first integer value for a key and 0 if the key is not present.\n",
    "Python can do it in one single line of code."
   ]
  },
  {
   "cell_type": "code",
   "execution_count": 17,
   "id": "4aee8379",
   "metadata": {},
   "outputs": [
    {
     "name": "stdout",
     "output_type": "stream",
     "text": [
      "Red : 5\n",
      "Green : 0\n",
      "Opacity : 0\n"
     ]
    }
   ],
   "source": [
    "my_values = {'red': ['5'], 'green': [''], 'blue': ['0']}\n",
    "\n",
    "print(\"Red :\", int(my_values.get('red', [''])[0] or 0))\n",
    "print(\"Green :\", int(my_values.get('green', [''])[0] or 0))\n",
    "print(\"Opacity :\", int(my_values.get('opacity', [''])[0] or 0))"
   ]
  },
  {
   "cell_type": "markdown",
   "id": "7d2f5282",
   "metadata": {},
   "source": [
    "Although short, this code does a lot of things in one line and is confusing.\n",
    "Instead, consider the following helper function."
   ]
  },
  {
   "cell_type": "code",
   "execution_count": 20,
   "id": "3ba1c55c",
   "metadata": {
    "scrolled": false
   },
   "outputs": [
    {
     "name": "stdout",
     "output_type": "stream",
     "text": [
      "Red : 5\n",
      "Green : 0\n",
      "Opacity : 0\n"
     ]
    }
   ],
   "source": [
    "def get_first_int(values, key, default=0):\n",
    "    query_result = values.get(key, [''])\n",
    "    if query_result[0]:\n",
    "        query_result = int(query_result[0])\n",
    "    else:\n",
    "        query_result = default\n",
    "    return query_result\n",
    "\n",
    "my_values = {'red': ['5'], 'green': [''], 'blue': ['0']}\n",
    "\n",
    "print(\"Red :\", get_first_int(my_values, 'red'))\n",
    "print(\"Green :\", get_first_int(my_values, 'green'))\n",
    "print(\"Opacity :\", get_first_int(my_values, 'opacity'))"
   ]
  },
  {
   "cell_type": "markdown",
   "id": "d6f0d278",
   "metadata": {},
   "source": [
    "# 3. Tricks with Slice operations\n",
    "\n",
    "If you have a list and want to change a few of the entries in between, you can do that with slices. The number of list elements that you want to replace need not be same as the number of list elements that will be added.\n",
    "\n",
    "In the example below, I am replacing 4 letters with 3 numbers and it works fine"
   ]
  },
  {
   "cell_type": "code",
   "execution_count": 1,
   "id": "0244b23d",
   "metadata": {},
   "outputs": [
    {
     "name": "stdout",
     "output_type": "stream",
     "text": [
      "[1, 2, 3, 4, 5, 6, 7, 8, 9, 10]\n"
     ]
    }
   ],
   "source": [
    "my_list = [1, 2, 3, 4, 'a', 'b', 'c', 'd', 8, 9, 10]\n",
    "\n",
    "my_list[4:8] = [5, 6, 7]\n",
    "\n",
    "print(my_list)"
   ]
  },
  {
   "cell_type": "markdown",
   "id": "8e5bf010",
   "metadata": {},
   "source": [
    "While referencing a list, slices are forgiving of the limit which is not possible for direct referencing."
   ]
  },
  {
   "cell_type": "code",
   "execution_count": 2,
   "id": "7bcc6b6b",
   "metadata": {},
   "outputs": [
    {
     "name": "stdout",
     "output_type": "stream",
     "text": [
      "[1, 2, 3, 4, 5, 6, 7, 8, 9, 10]\n"
     ]
    }
   ],
   "source": [
    "my_list = [1, 2, 3, 4, 5, 6, 7, 8, 9, 10]\n",
    "\n",
    "print(my_list[:20])"
   ]
  },
  {
   "cell_type": "markdown",
   "id": "f0a721f8",
   "metadata": {},
   "source": [
    "# 4. Avoid using start, end and stride in a single slice\n",
    "\n",
    "Specifying start, end and stride in a slice can be extremely confusing. If you need all three parameters, consider doing two assignments, one to slice and another to stride with positive value(negative strides are confusing!)."
   ]
  },
  {
   "cell_type": "code",
   "execution_count": 1,
   "id": "08257508",
   "metadata": {},
   "outputs": [
    {
     "name": "stdout",
     "output_type": "stream",
     "text": [
      "['a', 'c', 'e', 'g']\n",
      "['c', 'e']\n"
     ]
    }
   ],
   "source": [
    "a = ['a', 'b', 'c', 'd', 'e', 'f', 'g', 'h']\n",
    "b = a[::2]\n",
    "print(b)\n",
    "c = b[1:-1]\n",
    "print(c)"
   ]
  },
  {
   "cell_type": "markdown",
   "id": "336a3686",
   "metadata": {},
   "source": [
    "# 5. Use list comprehensions instead of map and filter.\n",
    "\n",
    "Suppose you have a list of integers and you need a list with the square of each integer. Following are two ways of doing it, but the list comprehension is much more readable.\n",
    "\n",
    "Note: The map function returns a map object, so it needs to be converted to a list before print() in the example."
   ]
  },
  {
   "cell_type": "code",
   "execution_count": 4,
   "id": "b653f4a5",
   "metadata": {},
   "outputs": [
    {
     "name": "stdout",
     "output_type": "stream",
     "text": [
      "[1, 4, 9, 16, 25, 36, 49, 64, 81, 100]\n",
      "[1, 4, 9, 16, 25, 36, 49, 64, 81, 100]\n"
     ]
    }
   ],
   "source": [
    "my_list = [1, 2, 3, 4, 5, 6, 7, 8, 9, 10]\n",
    "\n",
    "squares_lc = [x**2 for x in my_list]\n",
    "print(squares_lc)\n",
    "\n",
    "squares_map = map(lambda x: x**2, my_list)\n",
    "print(list(squares_map))"
   ]
  },
  {
   "cell_type": "markdown",
   "id": "47a81291",
   "metadata": {},
   "source": [
    "Now, suppose your requirement is to get only the squares of the even numbers. This can be done from my_list in two ways as shown below, but using list comprehensions is again more readable."
   ]
  },
  {
   "cell_type": "code",
   "execution_count": 5,
   "id": "2e677a7f",
   "metadata": {},
   "outputs": [
    {
     "name": "stdout",
     "output_type": "stream",
     "text": [
      "[4, 16, 36, 64, 100]\n",
      "[4, 16, 36, 64, 100]\n"
     ]
    }
   ],
   "source": [
    "my_list = [1, 2, 3, 4, 5, 6, 7, 8, 9, 10]\n",
    "\n",
    "even_squares_lc = [x**2 for x in my_list if x%2 == 0]\n",
    "print(even_squares_lc)\n",
    "\n",
    "even_squares_filter = map(lambda x: x**2, filter(lambda x: x%2 == 0, my_list))\n",
    "print(list(even_squares_filter))"
   ]
  }
 ],
 "metadata": {
  "kernelspec": {
   "display_name": "Python 3 (ipykernel)",
   "language": "python",
   "name": "python3"
  },
  "language_info": {
   "codemirror_mode": {
    "name": "ipython",
    "version": 3
   },
   "file_extension": ".py",
   "mimetype": "text/x-python",
   "name": "python",
   "nbconvert_exporter": "python",
   "pygments_lexer": "ipython3",
   "version": "3.9.7"
  }
 },
 "nbformat": 4,
 "nbformat_minor": 5
}
