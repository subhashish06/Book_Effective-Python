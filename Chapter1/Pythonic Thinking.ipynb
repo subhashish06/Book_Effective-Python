{
 "cells": [
  {
   "cell_type": "markdown",
   "id": "69bfb11f",
   "metadata": {},
   "source": [
    "# 1. Know which version of Python you're using\n",
    "\n",
    "Although you can simply check the python version from console with 'python --version' command, you can also check this in code like below."
   ]
  },
  {
   "cell_type": "code",
   "execution_count": 2,
   "id": "13679235",
   "metadata": {},
   "outputs": [
    {
     "name": "stdout",
     "output_type": "stream",
     "text": [
      "sys.version_info(major=3, minor=9, micro=7, releaselevel='final', serial=0)\n",
      "3.9.7 (default, Sep 16 2021, 16:59:28) [MSC v.1916 64 bit (AMD64)]\n"
     ]
    }
   ],
   "source": [
    "import sys\n",
    "\n",
    "print(sys.version_info)\n",
    "print(sys.version)"
   ]
  },
  {
   "cell_type": "markdown",
   "id": "db54923d",
   "metadata": {},
   "source": [
    "# 2. Avoid complex expressions\n",
    "\n",
    "If your expressions get complicated, split them into smaller functions and move them to a helper function.\n",
    "Suppose you have a dictionary my_values as below.\n",
    "You want to look for some particular keys. For the key, the value returned can be a list with only one number, an empty list or None if the key is not present."
   ]
  },
  {
   "cell_type": "code",
   "execution_count": 4,
   "id": "724cd120",
   "metadata": {},
   "outputs": [
    {
     "name": "stdout",
     "output_type": "stream",
     "text": [
      "Red:  ['5']\n",
      "Green:  ['']\n",
      "Opacity:  None\n"
     ]
    }
   ],
   "source": [
    "my_values = {'red': ['5'], 'green': [''], 'blue': ['0']}\n",
    "\n",
    "print(\"Red: \", my_values.get('red'))\n",
    "print(\"Green: \", my_values.get('green'))\n",
    "print(\"Opacity: \", my_values.get('opacity'))"
   ]
  },
  {
   "cell_type": "markdown",
   "id": "38d3529c",
   "metadata": {},
   "source": [
    "Now, suppose you want to get only the first integer value for a key and 0 if the key is not present.\n",
    "Python can do it in one single line of code."
   ]
  },
  {
   "cell_type": "code",
   "execution_count": 17,
   "id": "4aee8379",
   "metadata": {},
   "outputs": [
    {
     "name": "stdout",
     "output_type": "stream",
     "text": [
      "Red : 5\n",
      "Green : 0\n",
      "Opacity : 0\n"
     ]
    }
   ],
   "source": [
    "my_values = {'red': ['5'], 'green': [''], 'blue': ['0']}\n",
    "\n",
    "print(\"Red :\", int(my_values.get('red', [''])[0] or 0))\n",
    "print(\"Green :\", int(my_values.get('green', [''])[0] or 0))\n",
    "print(\"Opacity :\", int(my_values.get('opacity', [''])[0] or 0))"
   ]
  },
  {
   "cell_type": "markdown",
   "id": "7d2f5282",
   "metadata": {},
   "source": [
    "Although short, this code does a lot of things in one line and is confusing.\n",
    "Instead, consider the following helper function."
   ]
  },
  {
   "cell_type": "code",
   "execution_count": 20,
   "id": "3ba1c55c",
   "metadata": {
    "scrolled": false
   },
   "outputs": [
    {
     "name": "stdout",
     "output_type": "stream",
     "text": [
      "Red : 5\n",
      "Green : 0\n",
      "Opacity : 0\n"
     ]
    }
   ],
   "source": [
    "def get_first_int(values, key, default=0):\n",
    "    query_result = values.get(key, [''])\n",
    "    if query_result[0]:\n",
    "        query_result = int(query_result[0])\n",
    "    else:\n",
    "        query_result = default\n",
    "    return query_result\n",
    "\n",
    "my_values = {'red': ['5'], 'green': [''], 'blue': ['0']}\n",
    "\n",
    "print(\"Red :\", get_first_int(my_values, 'red'))\n",
    "print(\"Green :\", get_first_int(my_values, 'green'))\n",
    "print(\"Opacity :\", get_first_int(my_values, 'opacity'))"
   ]
  },
  {
   "cell_type": "markdown",
   "id": "d6f0d278",
   "metadata": {},
   "source": [
    "# 3. Tricks with slice operations\n",
    "\n",
    "If you have a list and want to change a few of the entries in between, you can do that with slices. The number of list elements that you want to replace need not be same as the number of list elements that will be added.\n",
    "\n",
    "In the example below, I am replacing 4 letters with 3 numbers and it works fine"
   ]
  },
  {
   "cell_type": "code",
   "execution_count": 1,
   "id": "0244b23d",
   "metadata": {},
   "outputs": [
    {
     "name": "stdout",
     "output_type": "stream",
     "text": [
      "[1, 2, 3, 4, 5, 6, 7, 8, 9, 10]\n"
     ]
    }
   ],
   "source": [
    "my_list = [1, 2, 3, 4, 'a', 'b', 'c', 'd', 8, 9, 10]\n",
    "\n",
    "my_list[4:8] = [5, 6, 7]\n",
    "\n",
    "print(my_list)"
   ]
  },
  {
   "cell_type": "markdown",
   "id": "8e5bf010",
   "metadata": {},
   "source": [
    "While referencing a list, slices are forgiving of the limit which is not possible for direct referencing."
   ]
  },
  {
   "cell_type": "code",
   "execution_count": 2,
   "id": "7bcc6b6b",
   "metadata": {},
   "outputs": [
    {
     "name": "stdout",
     "output_type": "stream",
     "text": [
      "[1, 2, 3, 4, 5, 6, 7, 8, 9, 10]\n"
     ]
    }
   ],
   "source": [
    "my_list = [1, 2, 3, 4, 5, 6, 7, 8, 9, 10]\n",
    "\n",
    "print(my_list[:20])"
   ]
  },
  {
   "cell_type": "markdown",
   "id": "f0a721f8",
   "metadata": {},
   "source": [
    "# 4. Avoid using start, end and stride in a single slice\n",
    "\n",
    "Specifying start, end and stride in a slice can be extremely confusing. If you need all three parameters, consider doing two assignments, one to slice and another to stride with positive value(negative strides are confusing!)."
   ]
  },
  {
   "cell_type": "code",
   "execution_count": 19,
   "id": "08257508",
   "metadata": {},
   "outputs": [
    {
     "name": "stdout",
     "output_type": "stream",
     "text": [
      "['a', 'c', 'e', 'g']\n",
      "['c', 'e']\n"
     ]
    }
   ],
   "source": [
    "a = ['a', 'b', 'c', 'd', 'e', 'f', 'g', 'h']\n",
    "b = a[::2]\n",
    "print(b)\n",
    "c = b[1:-1]\n",
    "print(c)"
   ]
  },
  {
   "cell_type": "markdown",
   "id": "336a3686",
   "metadata": {},
   "source": [
    "# 5. Use list comprehensions instead of map and filter.\n",
    "\n",
    "Suppose you have a list of integers and you need a list with the square of each integer. Following are two ways of doing it, but the list comprehension is much more readable.\n",
    "\n",
    "Note: The map function returns a map object, so it needs to be converted to a list before print() in the example."
   ]
  },
  {
   "cell_type": "code",
   "execution_count": 18,
   "id": "b653f4a5",
   "metadata": {},
   "outputs": [
    {
     "name": "stdout",
     "output_type": "stream",
     "text": [
      "[1, 4, 9, 16, 25, 36, 49, 64, 81, 100]\n",
      "[1, 4, 9, 16, 25, 36, 49, 64, 81, 100]\n"
     ]
    }
   ],
   "source": [
    "my_list = [1, 2, 3, 4, 5, 6, 7, 8, 9, 10]\n",
    "\n",
    "squares_lc = [x**2 for x in my_list]\n",
    "print(squares_lc)\n",
    "\n",
    "squares_map = map(lambda x: x**2, my_list)\n",
    "print(list(squares_map))"
   ]
  },
  {
   "cell_type": "markdown",
   "id": "47a81291",
   "metadata": {},
   "source": [
    "Now, suppose your requirement is to get only the squares of the even numbers. This can be done from my_list in two ways as shown below, but using list comprehensions is again more readable."
   ]
  },
  {
   "cell_type": "code",
   "execution_count": 17,
   "id": "2e677a7f",
   "metadata": {},
   "outputs": [
    {
     "name": "stdout",
     "output_type": "stream",
     "text": [
      "[4, 16, 36, 64, 100]\n",
      "[4, 16, 36, 64, 100]\n"
     ]
    }
   ],
   "source": [
    "my_list = [1, 2, 3, 4, 5, 6, 7, 8, 9, 10]\n",
    "\n",
    "even_squares_lc = [x**2 for x in my_list if x%2 == 0]\n",
    "print(even_squares_lc)\n",
    "\n",
    "even_squares_filter = map(lambda x: x**2, filter(lambda x: x%2 == 0, my_list))\n",
    "print(list(even_squares_filter))"
   ]
  },
  {
   "cell_type": "markdown",
   "id": "ffbddb08",
   "metadata": {},
   "source": [
    "# 6. Avoid more than two expressions in a list comprehension\n",
    "\n",
    "List comprehensions support multiple levels of loops and multiple conditions per loop level.\n",
    "The rule of thumb is to avoid using more than two expressions in a list comprehension. This could be two conditions, two loops, or one condition and one loop. As soon as it gets more complicated than this, better to use if an for statements or write a helper function.\n",
    "\n",
    "Example 1: suppose you want to simplify a matrix into one flat list of all cells."
   ]
  },
  {
   "cell_type": "code",
   "execution_count": 16,
   "id": "b0113494",
   "metadata": {},
   "outputs": [
    {
     "name": "stdout",
     "output_type": "stream",
     "text": [
      "[1, 2, 3, 4, 5, 6, 7, 8, 9]\n"
     ]
    }
   ],
   "source": [
    "matrix = [[1, 2, 3], [4, 5, 6], [7, 8, 9]]\n",
    "flat = [x for row in matrix for x in row]\n",
    "print(flat)"
   ]
  },
  {
   "cell_type": "markdown",
   "id": "7572b3b1",
   "metadata": {},
   "source": [
    "Example 2: suppose you want to square the value in each cell of a two dimentional matrix."
   ]
  },
  {
   "cell_type": "code",
   "execution_count": 2,
   "id": "b7959e00",
   "metadata": {},
   "outputs": [
    {
     "name": "stdout",
     "output_type": "stream",
     "text": [
      "[[1, 4, 9], [16, 25, 36], [49, 64, 81]]\n"
     ]
    }
   ],
   "source": [
    "matrix = [[1, 2, 3], [4, 5, 6], [7, 8, 9]]\n",
    "squared = [[x**2 for x in row] for row in matrix]\n",
    "print(squared)"
   ]
  },
  {
   "cell_type": "markdown",
   "id": "02018651",
   "metadata": {},
   "source": [
    "Example 3: suppose you want to filter the above matrix such that the only cells remaining are those divisible by 3 in rows that sum to 10 or higher. This has too many expressions and conditions."
   ]
  },
  {
   "cell_type": "code",
   "execution_count": 15,
   "id": "1d590663",
   "metadata": {
    "scrolled": true
   },
   "outputs": [
    {
     "name": "stdout",
     "output_type": "stream",
     "text": [
      "[[6], [9]]\n"
     ]
    }
   ],
   "source": [
    "matrix = [[1, 2, 3], [4, 5, 6], [7, 8, 9]]\n",
    "filtered = [[x for x in row if x % 3 == 0] for row in matrix if sum(row) >=10]\n",
    "print(filtered)"
   ]
  },
  {
   "cell_type": "markdown",
   "id": "d0f72b83",
   "metadata": {},
   "source": [
    "# 7. Use generator expressions for large comprehensions\n",
    "\n",
    "List comprehensions can cause problems for large inputs by using too much memeory.\n",
    "Generator expressions avoid memory issues by producing output one at a time like an iterator.\n",
    "Generator expressions execute very quickly when chained together.\n",
    "\n",
    "A common use case of generators is to work with data streams or large files, like CSV files. These text files separate data into columns by using commas. This format is a common way to share data. Now, what if you want to count the number of rows in a CSV file? "
   ]
  },
  {
   "cell_type": "code",
   "execution_count": 14,
   "id": "9ec6e5f7",
   "metadata": {},
   "outputs": [
    {
     "name": "stdout",
     "output_type": "stream",
     "text": [
      "<generator object <genexpr> at 0x000002029BE3E9E0>\n",
      "permalink,company,numEmps,category,city,state,fundedDate,raisedAmt,raisedCurrency,round\n",
      "\n",
      "lifelock,LifeLock,,web,Tempe,AZ,1-May-07,6850000,USD,b\n",
      "\n",
      "lifelock,LifeLock,,web,Tempe,AZ,1-Oct-06,6000000,USD,a\n",
      "\n",
      "lifelock,LifeLock,,web,Tempe,AZ,1-Jan-08,25000000,USD,c\n",
      "\n",
      "mycityfaces,MyCityFaces,7,web,Scottsdale,AZ,1-Jan-08,50000,USD,seed\n",
      "\n"
     ]
    }
   ],
   "source": [
    "rows = (row for row in open(\"data_sheet.csv\"))\n",
    "\n",
    "print(rows)\n",
    "\n",
    "for i in range(5):\n",
    "    print(next(rows))"
   ]
  },
  {
   "cell_type": "markdown",
   "id": "ec5f5bd9",
   "metadata": {},
   "source": [
    "# 8. Prefer enumerate over range\n",
    "\n",
    "When you have to iterate over a data structure like a list of strings, you can directly loop it over with a for.\n",
    "Sometimes, you want to iterate over a list and also want to know index of the current item. One way of doing this is:"
   ]
  },
  {
   "cell_type": "code",
   "execution_count": 13,
   "id": "ff06174f",
   "metadata": {
    "scrolled": true
   },
   "outputs": [
    {
     "name": "stdout",
     "output_type": "stream",
     "text": [
      "1 : vanilla\n",
      "2 : strawberry\n",
      "3 : mango\n",
      "4 : chocolate\n"
     ]
    }
   ],
   "source": [
    "flavor_list = [\"vanilla\", \"strawberry\", \"mango\", \"chocolate\"]\n",
    "for i in range(len(flavor_list)):\n",
    "    print(f\"{i + 1} : {flavor_list[i]}\")"
   ]
  },
  {
   "cell_type": "markdown",
   "id": "bfe191d6",
   "metadata": {},
   "source": [
    "A more elegant way of achieving the same result is to use enumerate like this:"
   ]
  },
  {
   "cell_type": "code",
   "execution_count": 12,
   "id": "a984ee84",
   "metadata": {},
   "outputs": [
    {
     "name": "stdout",
     "output_type": "stream",
     "text": [
      "0 : vanilla\n",
      "1 : strawberry\n",
      "2 : mango\n",
      "3 : chocolate\n"
     ]
    }
   ],
   "source": [
    "flavor_list = [\"vanilla\", \"strawberry\", \"mango\", \"chocolate\"]\n",
    "for i, flavor in enumerate(flavor_list):\n",
    "    print(f\"{i} : {flavor_list[i]}\")"
   ]
  },
  {
   "cell_type": "markdown",
   "id": "b3551fb1",
   "metadata": {},
   "source": [
    "# 9. Use zip to process iterators in parallel\n",
    "\n",
    "Often in python, you need to work with many lists of related objects. List comprehensions make it easy to take a source list and get a derived list."
   ]
  },
  {
   "cell_type": "markdown",
   "id": "12ab8ba4",
   "metadata": {},
   "source": [
    "The requirement is to get the longest name from the names list. One way of doing is to iterate over the list using enumerate:"
   ]
  },
  {
   "cell_type": "code",
   "execution_count": 5,
   "id": "4e4757f1",
   "metadata": {},
   "outputs": [
    {
     "name": "stdout",
     "output_type": "stream",
     "text": [
      "Cecilia\n"
     ]
    }
   ],
   "source": [
    "names = ['Cecilia', 'Lise', 'Marie']\n",
    "letters = [len(n) for n in names]\n",
    "\n",
    "longest_name = None\n",
    "max_letters = 0\n",
    "\n",
    "for i, name in enumerate(names):\n",
    "    count = letters[i]\n",
    "    if count > max_letters:\n",
    "        longest_name = names[i]\n",
    "        max_letters = count\n",
    "        \n",
    "print(longest_name)"
   ]
  },
  {
   "cell_type": "markdown",
   "id": "f86983a5",
   "metadata": {},
   "source": [
    "Another way of doing this is using the zip function and process the two lists in parallel. This is clearer as it needs no indexing."
   ]
  },
  {
   "cell_type": "code",
   "execution_count": 4,
   "id": "47c85179",
   "metadata": {},
   "outputs": [
    {
     "name": "stdout",
     "output_type": "stream",
     "text": [
      "Cecilia\n"
     ]
    }
   ],
   "source": [
    "names = ['Cecilia', 'Lise', 'Marie']\n",
    "letters = [len(n) for n in names]\n",
    "\n",
    "longest_name = None\n",
    "max_letters = 0\n",
    "\n",
    "for name, count in zip(names, letters):\n",
    "    if count > max_letters:\n",
    "        longest_name = name\n",
    "        max_letters = count\n",
    "        \n",
    "print(longest_name)"
   ]
  },
  {
   "cell_type": "markdown",
   "id": "1449efdf",
   "metadata": {},
   "source": [
    "Note: zip truncates its output silently if you supply it with iterators of different length.\n",
    "The zip_longest function from the itertools built-in module lets you iterate over multiple iterators regardless of length."
   ]
  },
  {
   "cell_type": "markdown",
   "id": "bbc547bc",
   "metadata": {},
   "source": [
    "# 10. Avoid 'else' blocks after 'for' and 'while' loops\n",
    "\n",
    "In a for loop, the else block will run only if the loop runs completely and does not encounter a break statement.\n",
    "In a while loop, the else block will run if the initial condition is false.\n",
    "\n",
    "The rationale for these behaviors is that else blocks after loops are useful when you are using loops to search for something. Suppose you want to determine if two numbers are co-prime (their only common divisor is 1)"
   ]
  },
  {
   "cell_type": "code",
   "execution_count": 6,
   "id": "311d1624",
   "metadata": {},
   "outputs": [
    {
     "name": "stdout",
     "output_type": "stream",
     "text": [
      "testing 2\n",
      "testing 3\n",
      "testing 4\n",
      "Co-prime\n"
     ]
    }
   ],
   "source": [
    "a = 4\n",
    "b = 9\n",
    "\n",
    "for i in range(2, min(a, b) + 1):\n",
    "    print('testing', i)\n",
    "    if a % i == 0 and b % i == 0:\n",
    "        print(\"Not co-prime\")\n",
    "        break\n",
    "else:\n",
    "    print(\"Co-prime\")"
   ]
  },
  {
   "cell_type": "markdown",
   "id": "1a4b4aee",
   "metadata": {},
   "source": [
    "In practice, this code shouldn't be written this way. Instead, write a helper function to do the calculation."
   ]
  },
  {
   "cell_type": "code",
   "execution_count": 7,
   "id": "acf0019a",
   "metadata": {},
   "outputs": [
    {
     "name": "stdout",
     "output_type": "stream",
     "text": [
      "Co-prime\n"
     ]
    }
   ],
   "source": [
    "def coprime(a, b):\n",
    "    for i in range(2, min(a, b) + 1):\n",
    "        if a % i == 0 and b % i == 0:\n",
    "            return False\n",
    "    return True\n",
    "\n",
    "if coprime(4, 9):\n",
    "    print(\"Co-prime\")"
   ]
  },
  {
   "cell_type": "markdown",
   "id": "b1ff702d",
   "metadata": {},
   "source": [
    "This approach is much clearer to readers. Simple constructs like loops should be self evident. Avoid using the else block after loops because their behavior isn't intuitive and can be confusing."
   ]
  }
 ],
 "metadata": {
  "kernelspec": {
   "display_name": "Python 3 (ipykernel)",
   "language": "python",
   "name": "python3"
  },
  "language_info": {
   "codemirror_mode": {
    "name": "ipython",
    "version": 3
   },
   "file_extension": ".py",
   "mimetype": "text/x-python",
   "name": "python",
   "nbconvert_exporter": "python",
   "pygments_lexer": "ipython3",
   "version": "3.9.7"
  }
 },
 "nbformat": 4,
 "nbformat_minor": 5
}
